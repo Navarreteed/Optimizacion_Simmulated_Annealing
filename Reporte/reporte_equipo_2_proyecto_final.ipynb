{
 "cells": [
  {
   "cell_type": "markdown",
   "metadata": {},
   "source": [
    "# Reporte de Proyecto Final - Simulated Annealing (SA)\n",
    "\n",
    "**Integrantes:**\n",
    "\n",
    "* Brandon Francisco Hernández Troncoso\n",
    "* José Eduardo Gutiérrez Navarrete\n",
    "* Miguel Ángel Castañeda Martínez\n",
    "\n",
    "## Objetivos:\n",
    "* Entender el funcionamiento de SA \n",
    "* Replicar SA en una función de Python\n",
    "* Probar SA en fucniones conocidas (Parábola, Ackley y Coseno)\n",
    "* Utilizar la funcion SA para resolver el problema del agente viajero\n",
    "\n",
    "## Definición del Algoritmo\n",
    "*Simulated annealing* o recocido simulado en español, es un algoritmo metaheurístico propuesto por Kirkpatrick en la revista *Science* en 1983. En este artículo se muestra que el algoritmo puede resolver problemas de optimización. Como la mayoría de los procesos metaheurísticos está basado en un fenómeno de la naturaleza, en este caso el proceso termodinámico calentamiento y enfriamiento del recocido del metal. \n",
    "\n",
    "El algoritmo se puede considerar un punto medio entre el algoritmo de colinas ascendentes que suele estancarse en mínimos locales y un algoritmo que se mueve de manera completamente aleatoria entre un conjunto de sucesores, el cual sería muy completo pero sumamente ineficiente.\n",
    "\n",
    "La intuición detras de SA es que las primeras aproximaciones son mas descuidadas, es decir la probabilidad de aceptación de un movimiento \"malo\" es mas alta y conforme se acerca al mínimo global, se vuelve mas crítico con sus movimientos, es decir la probabilidad de aceptación de un movimiento \"malo\" es mas baja, seleccionando así solo los mejores movimientos."
   ]
  },
  {
   "cell_type": "markdown",
   "metadata": {},
   "source": [
    "## Funcionamiento del algoritmo\n",
    "\n",
    "SA toma su inspiración de la metalurgia, donde la temperatura es usada para controlar el grado de estocasticidad durante una búsqueda aleatoria. La temperatura empieza alta, permitiendole al proceso moverse libre sobre el espacio de búsqueda con la esperanza de que la búsqueda encuentre una región con el mejor mínimo local. Después la temperatura es lentamente disminuida reduciendo la estocasticidad y forzando la búsqueda a converger a un mínimo.\n",
    "\n",
    "SA es usualmente usado en funciones con multiples minimos locales debido a su habilidad de escapar de minimos locales.\n",
    "\n",
    "En cada iteración, un transición candidata de $x$ a $x'$ es muestrada de una distribución $T$ y es aceptada con probabilidad:"
   ]
  },
  {
   "cell_type": "markdown",
   "metadata": {},
   "source": [
    "* $1$ si $\\Delta y \\leq 0$ \n",
    "* $exp(\\frac{-\\Delta y}{t})$ si $\\Delta y > 0$"
   ]
  },
  {
   "cell_type": "markdown",
   "metadata": {},
   "source": [
    "donde $\\Delta y=f(x')-f(x)$ es la diferencia del objetivo y $t$ es la temperatura. \n",
    "\n",
    "Lo que permite que este algoritmo se tan felxible es la aceptación de las probabilidades conocida el crietrio Metropolis, el cual ayuda al algoritmo a escapar de minimos locales cuando la temperatura es alta.\n",
    "\n",
    "El parámetro de temperatura $t$ controla la aceptación de la probabilidad. Un itinerario de recocido es usado para lentamente disminuir la temperatura mientras el algoritmo progresa. La temperatura deberá ser disminuida para asegurar convergencia. Si la temperatura se baja muy rápido la busqueda puede nunca encontrar la porción con el mínimo global."
   ]
  },
  {
   "cell_type": "markdown",
   "metadata": {},
   "source": [
    "Existen varios tipos de itinerario de recocido, entre los mas utilizados están:\n",
    "\n",
    "* logarítmico: $t^{(k)}=t^{(1)}\\frac{ln(2)}{ln(k+1)}$, \n",
    "* exponencial: $t^{(k+1)}=\\gamma t^{(k)}$, $\\gamma\\in (0,1)$, \n",
    "* recocido rápido: $t^{(k)} = \\frac{t^{(1)}}{k}$\n"
   ]
  },
  {
   "cell_type": "markdown",
   "metadata": {},
   "source": [
    "Figura 1 - itinerarios de recocido \n",
    "<br> ![image](imagenes/Xnip2022-12-10_01-03-02.jpg)"
   ]
  },
  {
   "cell_type": "markdown",
   "metadata": {},
   "source": [
    "## Implementación en Python"
   ]
  },
  {
   "cell_type": "markdown",
   "metadata": {},
   "source": []
  },
  {
   "cell_type": "markdown",
   "metadata": {},
   "source": []
  },
  {
   "cell_type": "markdown",
   "metadata": {},
   "source": []
  },
  {
   "cell_type": "markdown",
   "metadata": {},
   "source": [
    "## Referencias \n",
    "Kirpatrick, S., Gelatt, C.D., and Vecchi, M.P. (1983) Optimization by Simulated Annealing. Science, 220, 671-680. "
   ]
  },
  {
   "cell_type": "markdown",
   "metadata": {},
   "source": []
  }
 ],
 "metadata": {
  "kernelspec": {
   "display_name": "Python 3.10.8 64-bit",
   "language": "python",
   "name": "python3"
  },
  "language_info": {
   "name": "python",
   "version": "3.10.8"
  },
  "orig_nbformat": 4,
  "vscode": {
   "interpreter": {
    "hash": "b0fa6594d8f4cbf19f97940f81e996739fb7646882a419484c72d19e05852a7e"
   }
  }
 },
 "nbformat": 4,
 "nbformat_minor": 2
}
