{
 "cells": [
  {
   "cell_type": "markdown",
   "metadata": {},
   "source": [
    "# Reporte de Proyecto Final - Simulated Annealing (SA)\n",
    "\n",
    "**Integrantes:**\n",
    "\n",
    "* Brandon Francisco Hernández Troncoso\n",
    "* José Eduardo Gutiérrez Navarrete\n",
    "* Miguel Ángel Castañeda Martínez\n",
    "\n",
    "## Definición del Algoritmo\n",
    "*Simulated annealing* o recocido simulado en español, es un algoritmo metaheurístico propuesto por Kirkpatrick en la revista *Science* en 1983. En este artículo se muestra que el algoritmo puede resolver problemas de optimización. Como la mayoría de los procesos metaheurísticos está basado en un fenómeno de la naturaleza, en este caso el proceso termodinámico calentamiento y enfriamiento del recocido del metal. \n",
    "\n",
    "El algoritmo se puede considerar un punto medio entre el algoritmo de colinas ascendentes que suele estancarse en minimos locales y un algoritmo que se mueve de manera completamente aleatoria entre un conjunto de sucesores, el cual sería muy completo pero sumamente ineficiente.\n",
    "\n",
    "La intuición detras de SA es que las primeras aproximaciones son mas descuidadas, es decir la probabilidad de aceptación de un movimiento \"malo\" es mas alta y conforme se acerca al minimo global, se vuelve mas crítico con sus movimientos, es decir la probabilidad de aceptación de un movimiento \"malo\" es mas baja, seleccionando así solo los mejores movimientos."
   ]
  },
  {
   "cell_type": "markdown",
   "metadata": {},
   "source": [
    "## Funcionamiento del algoritmo\n",
    "* SA escapa de un óptimo local utilizando una condición de probabilidad que acepta o rechaza un movimiento inferior.\n",
    "* La idea de determinar la probabilidad de aceptación del siguiente movimiento de búsqueda se explica como sigue: Suponga que el problema de optimización se da como :"
   ]
  },
  {
   "cell_type": "markdown",
   "metadata": {},
   "source": [
    "$$ Max,Min\\  Z = F(x), s \\in S $$"
   ]
  },
  {
   "cell_type": "markdown",
   "metadata": {},
   "source": [
    "* A medida que la cantidad de iteraciones se incrementa, el SA busca una determinación mas selectiva de estrategias de solución utilizando un parámetro ajustable $T$.\n",
    "\n",
    "* Cada $T_i$ solicita un número específico de iteraciones de aceptación consecutivas, $t$. Dado que $S_0$ es la estrategia de inicio de la busqueda, $T_i$ se calcula típicamente como:"
   ]
  },
  {
   "cell_type": "markdown",
   "metadata": {},
   "source": [
    "$$T_0 = r_0F(S_0), 0<r_0<1$$\n",
    "$$T_i = r_iT_{i-1}, 0<r_i<1$$"
   ]
  },
  {
   "cell_type": "markdown",
   "metadata": {},
   "source": [
    "* Se define $S_a$ como la última estrategia de solución aceptada. En la iteración $k$, la probailidad de aceptar una estrategia cercana como el siguiente movimiento de búsqueda, $S_{k+1}$, se calcula como:"
   ]
  },
  {
   "cell_type": "markdown",
   "metadata": {},
   "source": []
  },
  {
   "cell_type": "markdown",
   "metadata": {},
   "source": [
    "* La fórmula dice que el siguiente movimiento de búsqueda, $S_k+1$, se acepta si $F(S_{k+1})$ no es peor que $F(S_a)$. De lo contrario, $F(S_{k+1})$ es una solución inferior y $S_{k+1}$ se acepta sólo si $R_k<=e^{\\frac{-|F(S_a)-F(S_{k+1}|}{T}}$, donde $R_k$ es un número aleatorio $(0,1)$.\n",
    "\n",
    "* Si $S_{k+1}$ se rechaza, se intenta una estrategia de solución diferente con $N(S_a)$.\n",
    "* Se observa que la probabilidad de aceptación se reduce a medida que la cantidad de iteraciones aumenta haciendo $T_i$ cada vez mas pequeña."
   ]
  },
  {
   "cell_type": "markdown",
   "metadata": {},
   "source": []
  },
  {
   "cell_type": "markdown",
   "metadata": {},
   "source": []
  },
  {
   "cell_type": "markdown",
   "metadata": {},
   "source": []
  },
  {
   "cell_type": "markdown",
   "metadata": {},
   "source": []
  },
  {
   "cell_type": "markdown",
   "metadata": {},
   "source": []
  },
  {
   "cell_type": "markdown",
   "metadata": {},
   "source": []
  },
  {
   "cell_type": "markdown",
   "metadata": {},
   "source": [
    "## Objetivos:\n",
    "* Entender el funcionamiento de SA \n",
    "* Replicar SA en una función de Python\n",
    "* Probar SA en fucniones conocidas (Parábola, Ackley y Coseno)\n",
    "* Utilizar la funcion SA para resolver el problema del agente viajero"
   ]
  },
  {
   "cell_type": "markdown",
   "metadata": {},
   "source": []
  },
  {
   "cell_type": "markdown",
   "metadata": {},
   "source": []
  },
  {
   "cell_type": "markdown",
   "metadata": {},
   "source": []
  },
  {
   "cell_type": "markdown",
   "metadata": {},
   "source": [
    "## Referencias \n",
    "Kirpatrick, S., Gelatt, C.D., and Vecchi, M.P. (1983) Optimization by Simulated Annealing. Science, 220, 671-680. "
   ]
  },
  {
   "cell_type": "markdown",
   "metadata": {},
   "source": []
  }
 ],
 "metadata": {
  "language_info": {
   "name": "python"
  },
  "orig_nbformat": 4
 },
 "nbformat": 4,
 "nbformat_minor": 2
}
