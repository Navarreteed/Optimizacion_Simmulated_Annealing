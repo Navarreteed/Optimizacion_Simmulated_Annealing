{
 "cells": [
  {
   "cell_type": "code",
   "execution_count": 3,
   "id": "1303b8dc",
   "metadata": {},
   "outputs": [],
   "source": [
    "import math\n",
    "import numpy as np\n",
    "import pandas as pd\n",
    "import matplotlib.pyplot as plt"
   ]
  },
  {
   "cell_type": "code",
   "execution_count": 4,
   "id": "ab43891d",
   "metadata": {},
   "outputs": [],
   "source": [
    "def annealing_schedule(t):\n",
    "    return 0.9*t"
   ]
  },
  {
   "cell_type": "code",
   "execution_count": 5,
   "id": "e2da8c87",
   "metadata": {},
   "outputs": [],
   "source": [
    "def simulated_annealing(f, x=10, T=None, t=annealing_schedule, k_max=1000, temp=100):\n",
    "    y = f([x])\n",
    "    x_best, y_best = x, y\n",
    "    path_array = np.array([x, y])\n",
    "    \n",
    "    for k in range(k_max):\n",
    "        delta_x = np.random.uniform(-2,2)   \n",
    "        x_new = x + delta_x\n",
    "        y_new = f([x_new])\n",
    "        delta_y = y_new - y\n",
    "        temp = annealing_schedule(temp)\n",
    "        selecting = np.random.uniform()\n",
    "        \n",
    "        coord = np.array([x_new, y_new])\n",
    "        path_array = np.vstack((path_array, coord))\n",
    "        \n",
    "        if delta_y <= 0 or selecting < math.exp(-delta_y/temp):\n",
    "            x, y = x_new, y_new\n",
    "        if y_new < y_best:\n",
    "            x_best, y_best = x_new, y_new\n",
    "    return (x_best, y_best), path_array"
   ]
  },
  {
   "cell_type": "markdown",
   "id": "f2ebdec1",
   "metadata": {},
   "source": [
    "# Función parábola"
   ]
  },
  {
   "cell_type": "code",
   "execution_count": 7,
   "id": "cc121847",
   "metadata": {},
   "outputs": [],
   "source": [
    "def parabola():\n",
    "    def parabola_x2_1(x):\n",
    "        return sum(np.power(np.subtract(x,1), 2))\n",
    "    return parabola_x2_1"
   ]
  },
  {
   "cell_type": "code",
   "execution_count": 8,
   "id": "a8663bb1",
   "metadata": {},
   "outputs": [],
   "source": [
    "best, coords = simulated_annealing(\n",
    "    f=parabola(), \n",
    "    x=2, \n",
    "    T=None, \n",
    "    t=annealing_schedule, \n",
    "    k_max=150, \n",
    "    temp=100)"
   ]
  },
  {
   "cell_type": "code",
   "execution_count": 10,
   "id": "c07e22b8",
   "metadata": {},
   "outputs": [
    {
     "data": {
      "text/plain": [
       "(0.9918299468880254, 6.674976785248596e-05)"
      ]
     },
     "execution_count": 10,
     "metadata": {},
     "output_type": "execute_result"
    }
   ],
   "source": [
    "best"
   ]
  },
  {
   "cell_type": "markdown",
   "id": "d9a03afe",
   "metadata": {},
   "source": [
    "# Función coseno"
   ]
  },
  {
   "cell_type": "code",
   "execution_count": 11,
   "id": "84474508",
   "metadata": {},
   "outputs": [],
   "source": [
    "def cos_x2():\n",
    "    def cos_x2_imp(x):\n",
    "        return sum(np.abs(x) + np.cos(x))\n",
    "    return cos_x2_imp"
   ]
  },
  {
   "cell_type": "code",
   "execution_count": 14,
   "id": "c3558d3b",
   "metadata": {},
   "outputs": [],
   "source": [
    "best, coords = simulated_annealing(\n",
    "    f=cos_x2(), \n",
    "    x=2, \n",
    "    T=None, \n",
    "    t=annealing_schedule, \n",
    "    k_max=150, \n",
    "    temp=100)"
   ]
  },
  {
   "cell_type": "code",
   "execution_count": 15,
   "id": "7b9b1de7",
   "metadata": {},
   "outputs": [
    {
     "data": {
      "text/plain": [
       "(0.0021597382064753035, 1.0021574059728215)"
      ]
     },
     "execution_count": 15,
     "metadata": {},
     "output_type": "execute_result"
    }
   ],
   "source": [
    "best"
   ]
  }
 ],
 "metadata": {
  "kernelspec": {
   "display_name": "Python 3 (ipykernel)",
   "language": "python",
   "name": "python3"
  },
  "language_info": {
   "codemirror_mode": {
    "name": "ipython",
    "version": 3
   },
   "file_extension": ".py",
   "mimetype": "text/x-python",
   "name": "python",
   "nbconvert_exporter": "python",
   "pygments_lexer": "ipython3",
   "version": "3.8.15"
  }
 },
 "nbformat": 4,
 "nbformat_minor": 5
}
